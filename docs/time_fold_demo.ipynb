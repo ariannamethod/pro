{
 "cells": [
  {
   "cell_type": "markdown",
   "metadata": {},
   "source": [
    "# Time Fold Demo\n",
    "\n",
    "Demonstrates forward-ahead prediction and reverse-time gradient echo."
   ]
  },
  {
   "cell_type": "code",
   "execution_count": null,
   "metadata": {},
   "outputs": [],
   "source": [
    "import numpy as np\n",
    "from transformers.time_fold import TimeFoldTransformer\n",
    "from quantum_memory import QuantumMemory\n",
    "\n",
    "def step(x):\n",
    "    return x + 1\n",
    "\n",
    "tf = TimeFoldTransformer(step, steps=2, memory=QuantumMemory())\n",
    "out = tf.forward(np.array([0.0]))\n",
    "grad = tf.echo_backward(np.array([1.0]))\n",
    "out, grad"
   ]
  }
 ],
 "metadata": {
  "kernelspec": {
   "display_name": "Python 3",
   "language": "python",
   "name": "python3"
  },
  "language_info": {
   "name": "python"
  }
 },
 "nbformat": 4,
 "nbformat_minor": 5
}
