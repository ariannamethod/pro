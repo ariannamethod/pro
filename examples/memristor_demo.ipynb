{
 "cells": [
  {
   "cell_type": "markdown",
   "metadata": {},
   "source": ["# Memristor Demo\n", "\n", "Demonstrates transformer with memristor-based persistent memory."]
  },
  {
   "cell_type": "code",
   "execution_count": null,
   "metadata": {},
   "outputs": [],
   "source": [
    "import numpy as np\n",
    "from src.models.transformer import Transformer\n",
    "\n",
    "model = Transformer(dim=4, use_memristor=True)\n",
    "x = np.ones(4)\n",
    "for _ in range(3):\n",
    "    x = model(x)\n",
    "    print(x)\n"
   ]
  }
 ],
 "metadata": {
  "kernelspec": {
   "display_name": "Python 3",
   "language": "python",
   "name": "python3"
  },
  "language_info": {
   "name": "python"
  }
 },
 "nbformat": 4,
 "nbformat_minor": 5
}
